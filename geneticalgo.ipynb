{
 "cells": [
  {
   "cell_type": "code",
   "execution_count": 2,
   "metadata": {},
   "outputs": [
    {
     "name": "stdout",
     "output_type": "stream",
     "text": [
      "Selected Features: [0 1 2 4 5 6]\n"
     ]
    }
   ],
   "source": [
    "import numpy as np \n",
    "from deap import base, creator, tools, algorithms\n",
    "import random\n",
    "\n",
    "# Generate synthetic image features\n",
    "np.random.seed(42)\n",
    "features = np.random.rand(100, 10)  # 100 samples, 10 features each\n",
    "labels = np.random.randint(0, 2, 100)  # Binary labels\n",
    "\n",
    "# Define evaluation function\n",
    "def evaluate(individual):\n",
    "    selected_features = np.where(individual)[0]\n",
    "    if len(selected_features) == 0:\n",
    "        return 0,\n",
    "    accuracy = np.mean(labels == np.random.randint(0, 2, len(labels)))  # Dummy classifier\n",
    "    return accuracy,\n",
    "\n",
    "# Genetic Algorithm setup\n",
    "creator.create(\"FitnessMax\", base.Fitness, weights=(1.0,))\n",
    "creator.create(\"Individual\", list, fitness=creator.FitnessMax)\n",
    "toolbox = base.Toolbox()\n",
    "toolbox.register(\"attr_bool\", random.randint, 0, 1)\n",
    "toolbox.register(\"individual\", tools.initRepeat, creator.Individual, toolbox.attr_bool, n=10)\n",
    "toolbox.register(\"population\", tools.initRepeat, list, toolbox.individual)\n",
    "toolbox.register(\"evaluate\", evaluate)\n",
    "toolbox.register(\"mate\", tools.cxTwoPoint)\n",
    "toolbox.register(\"mutate\", tools.mutFlipBit, indpb=0.1)\n",
    "toolbox.register(\"select\", tools.selTournament, tournsize=3)\n",
    "\n",
    "# Run Genetic Algorithm\n",
    "population = toolbox.population(n=50)\n",
    "result, _ = algorithms.eaSimple(population, toolbox, cxpb=0.5, mutpb=0.2, ngen=20, verbose=False)\n",
    "\n",
    "# Extract best solution\n",
    "best_individual = tools.selBest(result, k=1)[0]\n",
    "print(\"Selected Features:\", np.where(best_individual)[0])\n"
   ]
  },
  {
   "cell_type": "code",
   "execution_count": 3,
   "metadata": {},
   "outputs": [
    {
     "name": "stdout",
     "output_type": "stream",
     "text": [
      "Best Individual: [1 1 0 1 1 0 1 1] Fitness: 6\n"
     ]
    }
   ],
   "source": [
    "def initialize_population(pop_size, n_genes):\n",
    "    \"\"\"Initialize a population with random binary genes.\"\"\"\n",
    "    return np.random.randint(2, size=(pop_size, n_genes))\n",
    "\n",
    "def fitness_function(individual):\n",
    "    \"\"\"Fitness function example: Sum of genes.\"\"\"\n",
    "    return np.sum(individual)\n",
    "\n",
    "def select_parents(population, fitness):\n",
    "    \"\"\"Select parents using roulette wheel selection.\"\"\"\n",
    "    probabilities = fitness / fitness.sum()\n",
    "    indices = np.random.choice(len(population), size=2, p=probabilities)\n",
    "    return population[indices]\n",
    "\n",
    "def crossover(parent1, parent2):\n",
    "    \"\"\"Single-point crossover.\"\"\"\n",
    "    point = np.random.randint(1, len(parent1))\n",
    "    child1 = np.concatenate([parent1[:point], parent2[point:]])\n",
    "    child2 = np.concatenate([parent2[:point], parent1[point:]])\n",
    "    return child1, child2\n",
    "\n",
    "def mutate(individual, mutation_rate=0.1):\n",
    "    \"\"\"Flip random bits in the individual.\"\"\"\n",
    "    for i in range(len(individual)):\n",
    "        if np.random.rand() < mutation_rate:\n",
    "            individual[i] = 1 - individual[i]\n",
    "    return individual\n",
    "\n",
    "# Parameters\n",
    "pop_size = 10\n",
    "n_genes = 8\n",
    "n_generations = 20\n",
    "\n",
    "# GA Main Loop\n",
    "population = initialize_population(pop_size, n_genes)\n",
    "for generation in range(n_generations):\n",
    "    fitness = np.array([fitness_function(ind) for ind in population])\n",
    "    next_population = []\n",
    "    for _ in range(pop_size // 2):\n",
    "        parent1, parent2 = select_parents(population, fitness)\n",
    "        child1, child2 = crossover(parent1, parent2)\n",
    "        next_population.extend([mutate(child1), mutate(child2)])\n",
    "    population = np.array(next_population)\n",
    "\n",
    "# Best individual\n",
    "best_individual = population[np.argmax(fitness)]\n",
    "print(\"Best Individual:\", best_individual, \"Fitness:\", fitness_function(best_individual))\n"
   ]
  },
  {
   "cell_type": "code",
   "execution_count": null,
   "metadata": {},
   "outputs": [],
   "source": []
  }
 ],
 "metadata": {
  "kernelspec": {
   "display_name": "Python 3",
   "language": "python",
   "name": "python3"
  },
  "language_info": {
   "codemirror_mode": {
    "name": "ipython",
    "version": 3
   },
   "file_extension": ".py",
   "mimetype": "text/x-python",
   "name": "python",
   "nbconvert_exporter": "python",
   "pygments_lexer": "ipython3",
   "version": "3.11.8"
  }
 },
 "nbformat": 4,
 "nbformat_minor": 2
}
